{
 "cells": [
  {
   "cell_type": "code",
   "execution_count": 1,
   "metadata": {},
   "outputs": [
    {
     "data": {
      "text/plain": [
       "'LC_CTYPE=pt_BR.UTF-8;LC_NUMERIC=pt_BR.UTF-8;LC_TIME=pt_BR.UTF-8;LC_COLLATE=en_US.UTF-8;LC_MONETARY=pt_BR.UTF-8;LC_MESSAGES=en_US.UTF-8;LC_PAPER=pt_BR.UTF-8;LC_NAME=pt_BR.UTF-8;LC_ADDRESS=pt_BR.UTF-8;LC_TELEPHONE=pt_BR.UTF-8;LC_MEASUREMENT=pt_BR.UTF-8;LC_IDENTIFICATION=pt_BR.UTF-8'"
      ]
     },
     "execution_count": 1,
     "metadata": {},
     "output_type": "execute_result"
    }
   ],
   "source": [
    "from sqlalchemy import create_engine\n",
    "import pandas as pd\n",
    "import matplotlib.pyplot as plt\n",
    "from  matplotlib.ticker import FuncFormatter\n",
    "import os,datetime\n",
    "import locale\n",
    "from IPython.display import HTML\n",
    "locale.setlocale(locale.LC_ALL, '')"
   ]
  },
  {
   "cell_type": "code",
   "execution_count": 2,
   "metadata": {},
   "outputs": [],
   "source": [
    "user = os.environ.get('USER_DB_NTFCE')\n",
    "host = 'localhost'\n",
    "#        host = '192.168.15.8'\n",
    "password = os.environ.get('PASS_DB_NTFCE')\n",
    "banco = 'nota_fiscal'\n",
    "sql = 'select * from nota_fiscal_produtos_v'\n",
    "engine = create_engine('mysql://{}:{}@{}/{}'.format(user,password,host, banco), \n",
    "                                                    echo = False,\n",
    "                                                    isolation_level=\"READ COMMITTED\")\n",
    "conexao = engine.connect()\n",
    "\n",
    "compras_result_proxy = conexao.execute(sql)\n",
    "compras_db = compras_result_proxy.fetchall()\n",
    "\n",
    "#display(compras_result_proxy.keys()) #mostra as colunas\n",
    "#display(compras_db)\n",
    "\n",
    "df_compras = pd.DataFrame(compras_db,\n",
    "                          columns =compras_result_proxy.keys())\n",
    "\n",
    "df_compras.vl_prod_serv = df_compras.vl_prod_serv.astype(float)\n",
    "df_compras.vl_pago = df_compras.vl_pago.astype(float)\n",
    "df_compras.vl_desconto_prod_serv = df_compras.vl_desconto_prod_serv.astype(float)\n",
    "\n",
    "df_compras['mes_ano_emissao'] =  df_compras.dt_emissao.dt.to_period('M')\n",
    "#df_compras.columns = compras_result_proxy.keys() #coloca os nomes das colunas\n",
    "# df_compras.dt_emissao.dt.year\n",
    "#df_compras.head()\n",
    "#df_compras.dtypes\n",
    "\n"
   ]
  },
  {
   "cell_type": "code",
   "execution_count": 3,
   "metadata": {},
   "outputs": [],
   "source": [
    "\n",
    "\n",
    "def formatar_float(x,decimal=False):\n",
    "    if decimal:\n",
    "        return f'{locale.format_string(\"%.2f\", x, True)}'\n",
    "    else:\n",
    "        return f'{locale.format_string(\"%.0f\", x, True)}'\n",
    "\n",
    "ultimos_anos = []\n",
    "anos = df_compras.dt_emissao.dt.year.unique()\n",
    "for ano in anos:\n",
    "    if ano > datetime.datetime.now().year - 3: #pega os ultimos três anos da base, a partir do ano atual\n",
    "        ultimos_anos.append(ano)\n",
    "\n",
    "\n"
   ]
  },
  {
   "cell_type": "code",
   "execution_count": 4,
   "metadata": {},
   "outputs": [
    {
     "data": {
      "text/html": [
       "<h3> Valor Total - Compras Mensais - 2020 </h3>"
      ],
      "text/plain": [
       "<IPython.core.display.HTML object>"
      ]
     },
     "metadata": {},
     "output_type": "display_data"
    },
    {
     "data": {
      "text/html": [
       "<style  type=\"text/css\" >\n",
       "#T_f07e5164_1704_11eb_b7ad_5cc9d35f681crow0_col1{\n",
       "            background-color:  #f7fbff;\n",
       "            color:  #000000;\n",
       "        }#T_f07e5164_1704_11eb_b7ad_5cc9d35f681crow1_col1{\n",
       "            background-color:  #2e7ebc;\n",
       "            color:  #000000;\n",
       "        }#T_f07e5164_1704_11eb_b7ad_5cc9d35f681crow2_col1{\n",
       "            background-color:  #84bcdb;\n",
       "            color:  #000000;\n",
       "        }#T_f07e5164_1704_11eb_b7ad_5cc9d35f681crow3_col1{\n",
       "            background-color:  #2070b4;\n",
       "            color:  #f1f1f1;\n",
       "        }#T_f07e5164_1704_11eb_b7ad_5cc9d35f681crow4_col1{\n",
       "            background-color:  #4594c7;\n",
       "            color:  #000000;\n",
       "        }#T_f07e5164_1704_11eb_b7ad_5cc9d35f681crow5_col1{\n",
       "            background-color:  #1460a8;\n",
       "            color:  #f1f1f1;\n",
       "        }#T_f07e5164_1704_11eb_b7ad_5cc9d35f681crow6_col1{\n",
       "            background-color:  #aed1e7;\n",
       "            color:  #000000;\n",
       "        }#T_f07e5164_1704_11eb_b7ad_5cc9d35f681crow7_col1{\n",
       "            background-color:  #08306b;\n",
       "            color:  #f1f1f1;\n",
       "        }#T_f07e5164_1704_11eb_b7ad_5cc9d35f681crow8_col1{\n",
       "            background-color:  #4493c7;\n",
       "            color:  #000000;\n",
       "        }</style><table id=\"T_f07e5164_1704_11eb_b7ad_5cc9d35f681c\" ><thead>    <tr>        <th class=\"blank level0\" ></th>        <th class=\"col_heading level0 col0\" >Mês Ano</th>        <th class=\"col_heading level0 col1\" >Valor</th>    </tr></thead><tbody>\n",
       "                <tr>\n",
       "                        <th id=\"T_f07e5164_1704_11eb_b7ad_5cc9d35f681clevel0_row0\" class=\"row_heading level0 row0\" >1</th>\n",
       "                        <td id=\"T_f07e5164_1704_11eb_b7ad_5cc9d35f681crow0_col0\" class=\"data row0 col0\" >2020-02</td>\n",
       "                        <td id=\"T_f07e5164_1704_11eb_b7ad_5cc9d35f681crow0_col1\" class=\"data row0 col1\" >304,17</td>\n",
       "            </tr>\n",
       "            <tr>\n",
       "                        <th id=\"T_f07e5164_1704_11eb_b7ad_5cc9d35f681clevel0_row1\" class=\"row_heading level0 row1\" >2</th>\n",
       "                        <td id=\"T_f07e5164_1704_11eb_b7ad_5cc9d35f681crow1_col0\" class=\"data row1 col0\" >2020-03</td>\n",
       "                        <td id=\"T_f07e5164_1704_11eb_b7ad_5cc9d35f681crow1_col1\" class=\"data row1 col1\" >2.553,84</td>\n",
       "            </tr>\n",
       "            <tr>\n",
       "                        <th id=\"T_f07e5164_1704_11eb_b7ad_5cc9d35f681clevel0_row2\" class=\"row_heading level0 row2\" >3</th>\n",
       "                        <td id=\"T_f07e5164_1704_11eb_b7ad_5cc9d35f681crow2_col0\" class=\"data row2 col0\" >2020-04</td>\n",
       "                        <td id=\"T_f07e5164_1704_11eb_b7ad_5cc9d35f681crow2_col1\" class=\"data row2 col1\" >1.710,34</td>\n",
       "            </tr>\n",
       "            <tr>\n",
       "                        <th id=\"T_f07e5164_1704_11eb_b7ad_5cc9d35f681clevel0_row3\" class=\"row_heading level0 row3\" >4</th>\n",
       "                        <td id=\"T_f07e5164_1704_11eb_b7ad_5cc9d35f681crow3_col0\" class=\"data row3 col0\" >2020-05</td>\n",
       "                        <td id=\"T_f07e5164_1704_11eb_b7ad_5cc9d35f681crow3_col1\" class=\"data row3 col1\" >2.717,73</td>\n",
       "            </tr>\n",
       "            <tr>\n",
       "                        <th id=\"T_f07e5164_1704_11eb_b7ad_5cc9d35f681clevel0_row4\" class=\"row_heading level0 row4\" >5</th>\n",
       "                        <td id=\"T_f07e5164_1704_11eb_b7ad_5cc9d35f681crow4_col0\" class=\"data row4 col0\" >2020-06</td>\n",
       "                        <td id=\"T_f07e5164_1704_11eb_b7ad_5cc9d35f681crow4_col1\" class=\"data row4 col1\" >2.274,75</td>\n",
       "            </tr>\n",
       "            <tr>\n",
       "                        <th id=\"T_f07e5164_1704_11eb_b7ad_5cc9d35f681clevel0_row5\" class=\"row_heading level0 row5\" >6</th>\n",
       "                        <td id=\"T_f07e5164_1704_11eb_b7ad_5cc9d35f681crow5_col0\" class=\"data row5 col0\" >2020-07</td>\n",
       "                        <td id=\"T_f07e5164_1704_11eb_b7ad_5cc9d35f681crow5_col1\" class=\"data row5 col1\" >2.914,46</td>\n",
       "            </tr>\n",
       "            <tr>\n",
       "                        <th id=\"T_f07e5164_1704_11eb_b7ad_5cc9d35f681clevel0_row6\" class=\"row_heading level0 row6\" >7</th>\n",
       "                        <td id=\"T_f07e5164_1704_11eb_b7ad_5cc9d35f681crow6_col0\" class=\"data row6 col0\" >2020-08</td>\n",
       "                        <td id=\"T_f07e5164_1704_11eb_b7ad_5cc9d35f681crow6_col1\" class=\"data row6 col1\" >1.346,61</td>\n",
       "            </tr>\n",
       "            <tr>\n",
       "                        <th id=\"T_f07e5164_1704_11eb_b7ad_5cc9d35f681clevel0_row7\" class=\"row_heading level0 row7\" >8</th>\n",
       "                        <td id=\"T_f07e5164_1704_11eb_b7ad_5cc9d35f681crow7_col0\" class=\"data row7 col0\" >2020-09</td>\n",
       "                        <td id=\"T_f07e5164_1704_11eb_b7ad_5cc9d35f681crow7_col1\" class=\"data row7 col1\" >3.515,11</td>\n",
       "            </tr>\n",
       "            <tr>\n",
       "                        <th id=\"T_f07e5164_1704_11eb_b7ad_5cc9d35f681clevel0_row8\" class=\"row_heading level0 row8\" >9</th>\n",
       "                        <td id=\"T_f07e5164_1704_11eb_b7ad_5cc9d35f681crow8_col0\" class=\"data row8 col0\" >2020-10</td>\n",
       "                        <td id=\"T_f07e5164_1704_11eb_b7ad_5cc9d35f681crow8_col1\" class=\"data row8 col1\" >2.288,18</td>\n",
       "            </tr>\n",
       "    </tbody></table>"
      ],
      "text/plain": [
       "<pandas.io.formats.style.Styler at 0x7f1afb973358>"
      ]
     },
     "metadata": {},
     "output_type": "display_data"
    },
    {
     "data": {
      "image/png": "[encoded data removed]",
      "text/plain": [
       "<Figure size 432x288 with 1 Axes>"
      ]
     },
     "metadata": {},
     "output_type": "display_data"
    }
   ],
   "source": [
    "#Valor total mensal das compras por ano\n",
    "\n",
    "\n",
    "fig, ax = plt.subplots()\n",
    "\n",
    "for ano in ultimos_anos:\n",
    "    df_compras_anual = df_compras[df_compras.dt_emissao.dt.year == ano]\n",
    "    \n",
    "    df_compras_anual = pd.DataFrame(df_compras_anual.groupby(df_compras_anual['mes_ano_emissao'])['vl_pago'].agg('sum'))\n",
    "\n",
    "    valor_medio = round(df_compras_anual.vl_pago.mean(),2)\n",
    "    pos_ultimo_mes = df_compras_anual.shape[0]\n",
    "    df_compras_anual.plot(kind='bar',y='vl_pago',ax=ax)\n",
    "    formatter = FuncFormatter(formatar_float)\n",
    "    ax.yaxis.set_major_formatter(formatter)\n",
    "    ax.legend().set_visible(False)\n",
    "    ax.set(title=f'Compras {ano}', xlabel='Ano Mês', ylabel='Valor(R$)')\n",
    "    ax.axhline(y=valor_medio, color='b', label='Valor Médio', linestyle='--', linewidth=1)\n",
    "    ax.text(pos_ultimo_mes, valor_medio, \"Valor Médio\")\n",
    "#     ax.xticks(rotation=90)\n",
    "    for tick in ax.get_xticklabels():\n",
    "        tick.set_rotation(45)\n",
    "\n",
    "    \n",
    "    df_compras_anual = df_compras_anual.reset_index()\n",
    "    df_compras_anual.index += 1\n",
    "    df_compras_anual.columns = ['Mês Ano','Valor']\n",
    "    estilo = {'Valor': lambda x: f'{locale.format_string(\"%.2f\", x, True)}'}\n",
    "    df_style = df_compras_anual.style.format(estilo) #.style.hide_index()\n",
    "    display(HTML(f'<h3> Valor Total - Compras Mensais - {ano} </h3>'))\n",
    "    \n",
    "    display(df_style.background_gradient(cmap='Blues'))\n",
    "    "
   ]
  },
  {
   "cell_type": "code",
   "execution_count": 45,
   "metadata": {},
   "outputs": [
    {
     "data": {
      "text/plain": [
       "[]"
      ]
     },
     "metadata": {},
     "output_type": "display_data"
    },
    {
     "data": {
      "text/plain": [
       "0       False\n",
       "1       False\n",
       "2       False\n",
       "3       False\n",
       "4       False\n",
       "        ...  \n",
       "1209    False\n",
       "1210    False\n",
       "1211    False\n",
       "1212    False\n",
       "1213    False\n",
       "Name: cnpj, Length: 1214, dtype: bool"
      ]
     },
     "metadata": {},
     "output_type": "display_data"
    },
    {
     "data": {
      "image/png": "[encoded data removed]",
      "text/plain": [
       "<Figure size 432x288 with 1 Axes>"
      ]
     },
     "metadata": {},
     "output_type": "display_data"
    }
   ],
   "source": [
    "#Valor total mensal por empresa das compras por ano\n",
    "qt_maiores_empresas = 10    #quantidade máxima de empresas a mostrar, \n",
    "fig, ax = plt.subplots()\n",
    "\n",
    "for ano in ultimos_anos:\n",
    "    df_compras_anual = df_compras[df_compras.dt_emissao.dt.year == ano]\n",
    "    df_compras_anual = df_compras_anual[['vl_pago']].groupby(df_compras_anual['cnpj']).sum()\n",
    "    df_compras_anual.sort_values(by=['vl_pago'], inplace=True,ascending=False)\n",
    "    qt_maiores_empresas = list(df_compras_anual.iloc[:10,:0])\n",
    "    df_compras_anual = df_compras[df_compras.cnpj.isin(qt_maiores_empresas)]\n",
    "    #df_compras_anual['visivel'] = True\n",
    "    display(qt_maiores_empresas)\n",
    "    display(df_compras.cnpj.isin(qt_maiores_empresas))\n",
    "    #df_compras_anual = pd.DataFrame(df_compras_anual.groupby(['mes_ano_emissao','cnpj','estabelecimento'])['vl_pago'].agg('sum'))\n",
    "   \n",
    "#     df_compras_anual = df_compras_anual.reset_index()\n",
    "#     display(dir(df_compras_anual.index))\n",
    "#     df_evolucao = pd.crosstab(df_compras_anual.mes_ano_emissao,\n",
    "#                           df_compras_anual.estabelecimento,\n",
    "#                           values=df_compras_anual.vl_pago,\n",
    "#                           aggfunc='sum').copy()\n",
    "#     df_evolucao.fillna(0,inplace=True)\n",
    "    #display(df_evolucao)\n",
    "    #df_evolucao.plot(kind='bar',ax=ax)\n",
    "    #ax.legend().set_visible(False)\n",
    "#     df_compras_anual = df_compras_anual.reset_index()\n",
    "#     valor_medio = round(df_compras_anual.vl_pago.mean(),2)\n",
    "    \n",
    "#     pos_ultimo_mes = df_compras_anual.mes_ano_emissao.dt.month.unique().shape[0]\n",
    "#     display(df_compras_anual)\n",
    "    \n",
    "#     df_compras_anual.plot(kind='bar',y='vl_pago',ax=ax)\n",
    "#     formatter = FuncFormatter(formatar_float)\n",
    "#     ax.yaxis.set_major_formatter(formatter)\n",
    "#     ax.legend().set_visible(False)\n",
    "#     ax.set(title=f'Compras {ano}', xlabel='Ano Mês', ylabel='Valor(R$)')\n",
    "#     ax.axhline(y=valor_medio, color='b', label='Valor Médio', linestyle='--', linewidth=1)\n",
    "#     ax.text(pos_ultimo_mes, valor_medio, \"Valor Médio\")\n",
    "#     ax.xticks(rotation=90)\n",
    "#     for tick in ax.get_xticklabels():\n",
    "#         tick.set_rotation(45)\n",
    "\n",
    "    \n",
    "#     df_compras_anual = df_compras_anual.reset_index()\n",
    "#     df_compras_anual.index += 1\n",
    "#     df_compras_anual.columns = ['Mês Ano','Valor']\n",
    "#     estilo = {'Valor': lambda x: f'{locale.format_string(\"%.2f\", x, True)}'}\n",
    "#     df_style = df_compras_anual.style.format(estilo) #.style.hide_index()\n",
    "#     display(HTML(f'<h3> Valor Total - Compras Mensais - {ano} </h3>'))\n",
    "    \n",
    "#     display(df_style.background_gradient(cmap='Blues'))"
   ]
  },
  {
   "cell_type": "code",
   "execution_count": null,
   "metadata": {},
   "outputs": [],
   "source": []
  }
 ],
 "metadata": {
  "kernelspec": {
   "display_name": "Python 3",
   "language": "python",
   "name": "python3"
  },
  "language_info": {
   "codemirror_mode": {
    "name": "ipython",
    "version": 3
   },
   "file_extension": ".py",
   "mimetype": "text/x-python",
   "name": "python",
   "nbconvert_exporter": "python",
   "pygments_lexer": "ipython3",
   "version": "3.6.9"
  }
 },
 "nbformat": 4,
 "nbformat_minor": 4
}
